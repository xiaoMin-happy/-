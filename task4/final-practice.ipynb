{
 "cells": [
  {
   "cell_type": "markdown",
   "metadata": {},
   "source": [
    "## 爬取腾讯新闻热点精选\n",
    "\n",
    "1. 了解ajax加载\n",
    "2. 通过chrome的开发者工具，监控网络请求，并分析\n",
    "3. 用selenium完成爬虫\n",
    "\n",
    "腾讯新闻：<https://news.qq.com/>\n",
    "//*[@id=\"20200427A08JMI_1\"]/a"
   ]
  },
  {
   "cell_type": "code",
   "execution_count": 2,
   "metadata": {},
   "outputs": [],
   "source": [
    "# 利用selenium发送请求，爬取html\n",
    "import time\n",
    "from  selenium import webdriver\n",
    "\n",
    "driver=webdriver.Chrome()\n",
    "driver.get(\"https://news.qq.com\")"
   ]
  },
  {
   "cell_type": "markdown",
   "metadata": {},
   "source": [
    "### 一、ajax简介\n",
    "\n",
    "- ajax可以在不更新整个页面的情况下，对页面部分内容进行更新，可以使网页实现异步更新\n",
    "\n",
    "- 传统的网页如果需要实现更新内容，必须重载整个网页页面\n",
    "\n",
    "举例：如果用一个网页看股票，这个网页如果用传统的方式写的，则想要看到最新的消息需要刷新页面；但如果这个网页采用了ajax技术，就可以动态更新股票数据，无需刷新整个页面。\n",
    "\n",
    "### 二、通过selenium控制浏览器滚动条\n",
    "\n",
    "```python\n",
    "driver.execute_script（\"window.scrollTo(0,1000)\"）\n",
    "```\n",
    "\n",
    "- 语法：scrollTo(x,y)\n",
    "- 参数描述：\n",
    "  x  必需。要在窗口文档显示区左上角显示的文档的 x 坐标。\n",
    "  y  必需。要在窗口文档显示区左上角显示的文档的 y 坐标。\n",
    "- 配合chrome插件能快速找到位置：page ruler"
   ]
  },
  {
   "cell_type": "code",
   "execution_count": 3,
   "metadata": {},
   "outputs": [],
   "source": [
    "# 滚动页面，加载页面\n",
    "for i in range(1,100):\n",
    "    time.sleep(2)\n",
    "    driver.execute_script(\"window.scrollTo(window.scrollX, %d);\"%(i*200))"
   ]
  },
  {
   "cell_type": "markdown",
   "metadata": {},
   "source": [
    "![腾讯新闻f12](https://user-images.githubusercontent.com/62495140/80359645-af9ac980-88b0-11ea-9605-bc22f72e5992.jpg)"
   ]
  },
  {
   "cell_type": "code",
   "execution_count": 11,
   "metadata": {},
   "outputs": [],
   "source": [
    "from bs4 import BeautifulSoup\n",
    "html=driver.page_source\n",
    "bsObj=BeautifulSoup(html,\"lxml\")"
   ]
  },
  {
   "cell_type": "code",
   "execution_count": 12,
   "metadata": {},
   "outputs": [],
   "source": [
    "jxtits=bsObj.find_all(\"div\",{\"class\":\"jx-tit\"})[0].find_next_sibling().find_all(\"li\")"
   ]
  },
  {
   "cell_type": "code",
   "execution_count": 13,
   "metadata": {},
   "outputs": [
    {
     "name": "stdout",
     "output_type": "stream",
     "text": [
      "index , title , url\n",
      "1 , 董卿老公、上海富商密春雷“秘史” , https://new.qq.com/omn/20200427/20200427A0CB2700.html\n",
      "2 , 30省份一季报：粤苏总量保持2万亿元，湖北最困难时期已过 , https://new.qq.com/omn/20200427/20200427A0JV6G00.html\n",
      "3 , 武汉在院新冠肺炎患者清零，专家：清零不等于全部出院 , https://new.qq.com/omn/20200427/20200427A0GJP800.html\n",
      "4 , 美各界质疑政府应对疫情不力，耿爽：美政府是否隐瞒了什么？ , https://new.qq.com/omn/20200427/20200427A0H11D00.html\n",
      "5 , 一线 | 李国庆再谈“夺章”：印章我白天绑在裤腰带，晚上放被窝里 , https://new.qq.com/zt/template/?id=TEC2020042600521000\n",
      "6 , 寻找熟悉的武汉生活：超市老板从日接万单降到数百 未来想转型线上 , https://new.qq.com/omn/20200427/20200427V05K4900.html\n",
      "7 , 人口普查要求陆配提供家庭数据？国台办：歪曲事实别有用心 , https://new.qq.com/omn/20200427/20200427A0H4VM00.html\n",
      "8 , “一月白头”的中央指导组专家组成员邱海波已转战黑龙江 , https://new.qq.com/omn/20200427/20200427A0CW4300.html\n",
      "9 , 造谣病毒来自武汉实验室的，原来是惯犯 , https://new.qq.com/omn/20200427/20200427A0BLNR00.html\n"
     ]
    }
   ],
   "source": [
    "print(\"index\",\",\",\"title\",\",\",\"url\")\n",
    "for i,jxtit in enumerate(jxtits):\n",
    "#     print(jxtit)\n",
    "    \n",
    "    try:\n",
    "        text=jxtit.find_all(\"img\")[0][\"alt\"]\n",
    "    except:\n",
    "        text=jxtit.find_all(\"div\",{\"class\":\"lazyload-placeholder\"})[0].text\n",
    "    try:\n",
    "        url=jxtit.find_all(\"a\")[0][\"href\"]\n",
    "    except:\n",
    "        print(jxtit)\n",
    "    print(i+1,\",\",text,\",\",url)"
   ]
  },
  {
   "cell_type": "code",
   "execution_count": null,
   "metadata": {},
   "outputs": [],
   "source": []
  }
 ],
 "metadata": {
  "kernelspec": {
   "display_name": "python_tf",
   "language": "python",
   "name": "python_tf"
  },
  "language_info": {
   "codemirror_mode": {
    "name": "ipython",
    "version": 3
   },
   "file_extension": ".py",
   "mimetype": "text/x-python",
   "name": "python",
   "nbconvert_exporter": "python",
   "pygments_lexer": "ipython3",
   "version": "3.6.10"
  }
 },
 "nbformat": 4,
 "nbformat_minor": 4
}
