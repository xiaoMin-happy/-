{
 "cells": [
  {
   "cell_type": "markdown",
   "metadata": {},
   "source": [
    "## 爬取丁香园相关信息\n",
    "\n",
    "模拟登录丁香园，并抓取论坛页面所有的人员基本信息与回复帖子内容。\n",
    "url = <http://www.dxy.cn/bbs/thread/626626#626626 >"
   ]
  },
  {
   "cell_type": "code",
   "execution_count": 1,
   "metadata": {},
   "outputs": [],
   "source": [
    "import requests, json, re, random,time\n",
    "from bs4 import BeautifulSoup\n",
    "from selenium import webdriver\n",
    "from lxml import etree"
   ]
  },
  {
   "cell_type": "code",
   "execution_count": 2,
   "metadata": {},
   "outputs": [],
   "source": [
    "class getUrl(object):\n",
    "    def __init__(self):\n",
    "        self.headers={\n",
    "            \"Connection\": \"keep-alive\",\n",
    "            \"User-Agent\": \"Mozilla/5.0 (Windows NT 10.0; WOW64) AppleWebKit/537.36 \"  \n",
    "                          \"(KHTML, like Gecko) Chrome/51.0.2704.63 Safari/537.36\",\n",
    "            \"Accept\": \"text/html,application/xhtml+xml,application/xml;q=0.9,image/webp,*/*;q=0.8\",\n",
    "            \"Accept-Encoding\": \"gzip, deflate, sdch\",\n",
    "            \"Accept-Language\": \"zh-CN,zh;q=0.8\",\n",
    "        }\n",
    "        \n",
    "        \n",
    "    def run(self):\n",
    "        browser = webdriver.Chrome()\n",
    "        browser.get('https://auth.dxy.cn/accounts/login?service=http://www.dxy.cn/bbs/index.html')\n",
    "        time.sleep(1)\n",
    "        #切换账号密码登录表单\n",
    "        js1 = 'document.querySelector(\"#j_loginTab1\").style.display=\"none\";'\n",
    "        browser.execute_script(js1)\n",
    "        time.sleep(1)\n",
    "        js2 = 'document.querySelector(\"#j_loginTab2\").style.display=\"block\";'\n",
    "        browser.execute_script(js2)\n",
    "        #输入账号密码\n",
    "        input_name = browser.find_element_by_name('username')\n",
    "        input_name.clear()\n",
    "        input_name.send_keys('*')# 这里为自己账号和密码\n",
    "        input_pass = browser.find_element_by_name('password')\n",
    "        input_pass.clear()\n",
    "        input_pass.send_keys('*')\n",
    "        browser.find_element_by_xpath('//*[@class=\"form__button\"]/button').click()\n",
    "        #此步骤应该有验证码，先跳过\n",
    "        time.sleep(10)\n",
    "        cookie = browser.get_cookies()\n",
    "        cookie_dict = {i['name']:i['value'] for i in cookie}\n",
    "        #转到抓取页面\n",
    "        browser.get(\"http://www.dxy.cn/bbs/thread/626626#626626\");\n",
    "        html = browser.page_source\n",
    "        tree = etree.HTML(html)\n",
    "        user = tree.xpath('//div[@id=\"postcontainer\"]//div[@class=\"auth\"]/a/text()')\n",
    "        content = tree.xpath('//td[@class=\"postbody\"]')\n",
    "        for i in range(0,len(user)):\n",
    "            result = user[i].strip()+\":\"+content[i].xpath('string(.)').strip()\n",
    "            #写入文件\n",
    "            dir_file = open(\"DXY_records.txt\",'a', encoding=\"utf-8\")\n",
    "            dir_file.write(result+\"\\n\")\n",
    "            dir_file.write('*' * 80+\"\\n\")\n",
    "            dir_file.close()\n",
    "        print('*' * 5 +\"抓取结束\"+'*' * 5)"
   ]
  },
  {
   "cell_type": "code",
   "execution_count": null,
   "metadata": {},
   "outputs": [],
   "source": []
  }
 ],
 "metadata": {
  "kernelspec": {
   "display_name": "python_tf",
   "language": "python",
   "name": "python_tf"
  },
  "language_info": {
   "codemirror_mode": {
    "name": "ipython",
    "version": 3
   },
   "file_extension": ".py",
   "mimetype": "text/x-python",
   "name": "python",
   "nbconvert_exporter": "python",
   "pygments_lexer": "ipython3",
   "version": "3.6.10"
  }
 },
 "nbformat": 4,
 "nbformat_minor": 4
}
