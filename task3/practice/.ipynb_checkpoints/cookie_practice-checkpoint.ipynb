{
 "cells": [
  {
   "cell_type": "markdown",
   "metadata": {},
   "source": [
    "## selenium模拟登陆360"
   ]
  },
  {
   "cell_type": "code",
   "execution_count": 21,
   "metadata": {},
   "outputs": [],
   "source": [
    "import time\n",
    "\n",
    "from selenium import webdriver\n",
    "from selenium.webdriver.common.by import By"
   ]
  },
  {
   "cell_type": "markdown",
   "metadata": {},
   "source": [
    "1. 初始化ChromeDriver\n",
    "2. 打开163邮箱登陆页面"
   ]
  },
  {
   "cell_type": "code",
   "execution_count": 24,
   "metadata": {},
   "outputs": [
    {
     "name": "stdout",
     "output_type": "stream",
     "text": [
      "CDwindow-FA27B6C1AB5935D6D13C52742AD5869D\n"
     ]
    }
   ],
   "source": [
    "name = '*'\n",
    "passwd = '*'\n",
    "driver = webdriver.Chrome()\n",
    "driver.get('https://mail.163.com/')\n",
    "#将窗口调到最大\n",
    "driver.maximize_window()\n",
    "#休息5秒\n",
    "time.sleep(5)\n",
    "current_windows_l = driver.current_window_handle\n",
    "print(current_windows_l)"
   ]
  },
  {
   "cell_type": "code",
   "execution_count": 25,
   "metadata": {},
   "outputs": [],
   "source": [
    "#进入邮箱的密码登陆页面\n",
    "\n",
    "# 注意每次驱动selenium时，把之前的驱动自动化页面关掉，一次打开太多会崩掉\n",
    "# 模拟点击通过密码登陆的按钮\n",
    "button = driver.find_element_by_id('lbNormal')  # 查找id为‘lbNormal’的标签\n",
    "button.click()\n",
    "\n",
    "# 多表单切换\n",
    "driver.switch_to.frame(driver.find_element_by_xpath(\"//iframe[starts-with(@id, 'x-URS-iframe')]\"))  # 以xpath查找标签"
   ]
  },
  {
   "cell_type": "markdown",
   "metadata": {},
   "source": [
    "3. 找到用户名的输入框，输入用户名\n",
    "4. 找到密码的输入框，输入密码\n",
    "5. 提交用户信息"
   ]
  },
  {
   "cell_type": "code",
   "execution_count": null,
   "metadata": {},
   "outputs": [],
   "source": [
    "email = driver.find_element_by_name('email')\n",
    "#email = driver.find_element_by_xpath('//input[@name=\"email\"]')\n",
    "email.send_keys(name)\n",
    "\n",
    "password = driver.find_element_by_name('password')\n",
    "#password = driver.find_element_by_xpath(\"//input[@name='password']\")\n",
    "password.send_keys(passwd)\n",
    "\n",
    "submit = driver.find_element_by_id(\"dologin\")\n",
    "time.sleep(15)\n",
    "# 一般在click()前加入等待时间\n",
    "submit.click()\n",
    "time.sleep(10)\n",
    "print(driver.page_source)"
   ]
  },
  {
   "cell_type": "markdown",
   "metadata": {},
   "source": [
    "click()前要确定以下：\n",
    "\n",
    "+ 首先要看是否需要切换iframe,\n",
    "\n",
    "+ 其次是否需要加等待时间，\n",
    "\n",
    "+ 然后看看是否需要用js的方法来scroll滚动条，\n",
    "\n",
    "+ 最后check下是否是可以点击的"
   ]
  },
  {
   "cell_type": "code",
   "execution_count": 27,
   "metadata": {},
   "outputs": [],
   "source": [
    "driver.quit()"
   ]
  },
  {
   "cell_type": "code",
   "execution_count": null,
   "metadata": {},
   "outputs": [],
   "source": []
  }
 ],
 "metadata": {
  "kernelspec": {
   "display_name": "python_tf",
   "language": "python",
   "name": "python_tf"
  },
  "language_info": {
   "codemirror_mode": {
    "name": "ipython",
    "version": 3
   },
   "file_extension": ".py",
   "mimetype": "text/x-python",
   "name": "python",
   "nbconvert_exporter": "python",
   "pygments_lexer": "ipython3",
   "version": "3.6.10"
  }
 },
 "nbformat": 4,
 "nbformat_minor": 4
}
