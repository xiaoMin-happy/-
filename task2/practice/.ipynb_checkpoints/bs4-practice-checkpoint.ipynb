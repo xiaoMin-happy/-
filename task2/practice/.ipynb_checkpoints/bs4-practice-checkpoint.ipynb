{
 "cells": [
  {
   "cell_type": "markdown",
   "metadata": {},
   "source": [
    "## 中国大学排名爬取\n",
    "\n",
    "爬取网站为 url=<http://www.zuihaodaxue.com/zuihaodaxuepaiming2019.html>\n",
    "\n",
    "定向爬取之前要验证爬取可行性：\n",
    "1. 定向爬取内容是否在html中，而不是js编写的动态的\n",
    "2. 检查网站robots协议\n",
    "\n",
    "右键查看网页源代码\n",
    "![爬取内容html检查](https://user-images.githubusercontent.com/62495140/79990684-eacd7f00-84e3-11ea-8acc-66707d809fae.jpg)\n",
    "\n",
    "![robots](https://user-images.githubusercontent.com/62495140/79990739-fc168b80-84e3-11ea-8311-90f833af8c4c.png)"
   ]
  },
  {
   "cell_type": "raw",
   "metadata": {},
   "source": [
    "以清华大学为例，其所在html为：\n",
    "\n",
    "<tbody class=\"hidden_zhpm\" style=\"text-align: center;\">\n",
    "\t\t\t\t\t\t\t\t\t<tr class=\"alt\"><td>1</td><td><div align=\"left\">清华大学</div></td><td>北京</td><td>94.6</td><td class=\"hidden-xs need-hidden indicator5\">100.0</td><td class=\"hidden-xs need-hidden indicator6\"style=\"display: none;\">98.30%</td><td class=\"hidden-xs need-hidden indicator7\"style=\"display: none;\">1589319</td><td class=\"hidden-xs need-hidden indicator8\"style=\"display: none;\">48698</td><td class=\"hidden-xs need-hidden indicator9\"style=\"display: none;\">1.512</td><td class=\"hidden-xs need-hidden indicator10\"style=\"display: none;\">1810</td><td class=\"hidden-xs need-hidden indicator11\"style=\"display: none;\">126</td><td class=\"hidden-xs need-hidden indicator12\"style=\"display: none;\">1697330</td><td class=\"hidden-xs need-hidden indicator13\"style=\"display: none;\">302898</td><td class=\"hidden-xs need-hidden indicator14\"style=\"display: none;\">6.81%</td></tr>.......</today> "
   ]
  },
  {
   "cell_type": "code",
   "execution_count": 8,
   "metadata": {},
   "outputs": [],
   "source": [
    "import requests\n",
    "from bs4 import BeautifulSoup\n",
    "import bs4"
   ]
  },
  {
   "cell_type": "code",
   "execution_count": 12,
   "metadata": {},
   "outputs": [
    {
     "name": "stdout",
     "output_type": "stream",
     "text": [
      "    排名    \t 学校名称 \t    总分    \n",
      "    1     \t 清华大学 \t   94.6   \n",
      "    2     \t 北京大学 \t   76.5   \n",
      "    3     \t 浙江大学 \t   72.9   \n",
      "    4     \t上海交通大学\t   72.1   \n",
      "    5     \t 复旦大学 \t   65.6   \n",
      "    6     \t中国科学技术大学\t   60.9   \n",
      "    7     \t华中科技大学\t   58.9   \n",
      "    7     \t 南京大学 \t   58.9   \n",
      "    9     \t 中山大学 \t   58.2   \n",
      "    10    \t哈尔滨工业大学\t   56.7   \n",
      "    11    \t北京航空航天大学\t   56.3   \n",
      "    12    \t 武汉大学 \t   56.2   \n",
      "    13    \t 同济大学 \t   55.7   \n",
      "    14    \t西安交通大学\t   55.0   \n",
      "    15    \t 四川大学 \t   54.4   \n",
      "    16    \t北京理工大学\t   54.0   \n",
      "    17    \t 东南大学 \t   53.6   \n",
      "    18    \t 南开大学 \t   52.8   \n",
      "    19    \t 天津大学 \t   52.3   \n",
      "    20    \t华南理工大学\t   52.0   \n"
     ]
    }
   ],
   "source": [
    "# 1. 爬取大学排名网页内容\n",
    "def getHTMLText(url):\n",
    "    try: \n",
    "        r = requests.get(url,timeout=30)\n",
    "        r.raise_for_status()\n",
    "        r.encoding = r.apparent_encoding\n",
    "        return r.text\n",
    "    except:\n",
    "        return \"\"\n",
    "\n",
    "    \n",
    "# 2. 提取网页内容(html)中的信息到列表(ulist)中\n",
    "def fillUnivList(ulist, html):\n",
    "    soup = BeautifulSoup(html, 'html.parser')\n",
    "    for tr in soup.find('tbody').children:\n",
    "        # 子节点中包含字符串节点，要对tr进行type类型判断\n",
    "        if isinstance(tr, bs4.element.Tag):  # bs4类型要单独引用bs4库\n",
    "            tds = tr('td') # 相当于<tag>.find_all(name),返回name为‘td’的标签列表\n",
    "            ulist.append([tds[0].string, tds[1].string, tds[3].string])  # 提取‘td’标签的NavigableString内容，即排名，学校名称，总分\n",
    "\n",
    "            \n",
    "# 3. 格式化输出结果, python常用.format\n",
    "def printUnivList(ulist, num):\n",
    "    #打印表头\n",
    "    print(\"{:^10}\\t{:^6}\\t{:^10}\".format(\"排名\",\"学校名称\",\"总分\")) # {:^10}居中对齐，该位置宽度占10个字符\n",
    "    #打印表格\n",
    "    for i in range(num):\n",
    "        u = ulist[i]\n",
    "        print(\"{:^10}\\t{:^6}\\t{:^10}\".format(u[0],u[1],u[2]))\n",
    "        \n",
    "        \n",
    "def main():\n",
    "    uinfo = []\n",
    "    url = 'http://www.zuihaodaxue.com/zuihaodaxuepaiming2019.html'\n",
    "    html = getHTMLText(url)\n",
    "    fillUnivList(uinfo, html)\n",
    "    printUnivList(uinfo, 20) # 打印前20个\n",
    "    \n",
    "\n",
    "    \n",
    "if __name__ == '__main__':\n",
    "    main()"
   ]
  },
  {
   "cell_type": "markdown",
   "metadata": {},
   "source": [
    "### 第二版——解决格式化输出中的中文对齐问题\n",
    "\n",
    "format()函数的约定\n",
    "![format](https://user-images.githubusercontent.com/62495140/79994095-1ce0e000-84e8-11ea-9bc6-51339c343ada.jpg)\n",
    "\n",
    "当填入内容的长度小于设定宽度(第4项)，format就会自动按照所给填充(第2项)进行填充补全\n",
    "\n",
    "但是默认填充格式为西文，西文与中文长度不同，所以会造成中文对齐问题。\n",
    "\n",
    "解决方法为在format中利用中文空格进行填充"
   ]
  },
  {
   "cell_type": "code",
   "execution_count": 15,
   "metadata": {},
   "outputs": [
    {
     "name": "stdout",
     "output_type": "stream",
     "text": [
      "    排名    \t　　　学校名称　　　\t    总分    \n",
      "    1     \t　　　清华大学　　　\t   94.6   \n",
      "    2     \t　　　北京大学　　　\t   76.5   \n",
      "    3     \t　　　浙江大学　　　\t   72.9   \n",
      "    4     \t　　上海交通大学　　\t   72.1   \n",
      "    5     \t　　　复旦大学　　　\t   65.6   \n",
      "    6     \t　中国科学技术大学　\t   60.9   \n",
      "    7     \t　　华中科技大学　　\t   58.9   \n",
      "    7     \t　　　南京大学　　　\t   58.9   \n",
      "    9     \t　　　中山大学　　　\t   58.2   \n",
      "    10    \t　哈尔滨工业大学　　\t   56.7   \n",
      "    11    \t　北京航空航天大学　\t   56.3   \n",
      "    12    \t　　　武汉大学　　　\t   56.2   \n",
      "    13    \t　　　同济大学　　　\t   55.7   \n",
      "    14    \t　　西安交通大学　　\t   55.0   \n",
      "    15    \t　　　四川大学　　　\t   54.4   \n",
      "    16    \t　　北京理工大学　　\t   54.0   \n",
      "    17    \t　　　东南大学　　　\t   53.6   \n",
      "    18    \t　　　南开大学　　　\t   52.8   \n",
      "    19    \t　　　天津大学　　　\t   52.3   \n",
      "    20    \t　　华南理工大学　　\t   52.0   \n"
     ]
    }
   ],
   "source": [
    "def getHTMLText(url):\n",
    "    try: \n",
    "        r = requests.get(url,timeout=30)\n",
    "        r.raise_for_status()\n",
    "        r.encoding = r.apparent_encoding\n",
    "        return r.text\n",
    "    except:\n",
    "        return \"\"\n",
    "\n",
    "    \n",
    "\n",
    "def fillUnivList(ulist, html):\n",
    "    soup = BeautifulSoup(html, 'html.parser')\n",
    "    for tr in soup.find('tbody').children:\n",
    "        if isinstance(tr, bs4.element.Tag): \n",
    "            tds = tr('td') \n",
    "            ulist.append([tds[0].string, tds[1].string, tds[3].string])\n",
    "\n",
    "            \n",
    "# 修改\n",
    "def printUnivList(ulist, num):\n",
    "    \n",
    "    tplt = \"{0:^10}\\t{1:{3}^10}\\t{2:^10}\"  \n",
    "    #{1:{3}^10}中的1表示输出的该位置为format()函数的第1个参数（从0开始）\n",
    "    # {1:{3}^10}中的{3}指用format()函数中的第3个参数进行填充，即利用chr(12288)填充\n",
    "    # 中文空格的UTF-8编码：chr(12288)\n",
    "    \n",
    "    \n",
    "    #打印表头\n",
    "    print(tplt.format(\"排名\",\"学校名称\",\"总分\", chr(12288))) \n",
    "    #打印表格\n",
    "    for i in range(num):\n",
    "        u = ulist[i]\n",
    "        print(tplt.format(u[0],u[1],u[2],chr(12288)))\n",
    "        \n",
    "        \n",
    "def main():\n",
    "    uinfo = []\n",
    "    url = 'http://www.zuihaodaxue.com/zuihaodaxuepaiming2019.html'\n",
    "    html = getHTMLText(url)\n",
    "    fillUnivList(uinfo, html)\n",
    "    printUnivList(uinfo, 20) \n",
    "    \n",
    "\n",
    "    \n",
    "if __name__ == '__main__':\n",
    "    main()"
   ]
  },
  {
   "cell_type": "code",
   "execution_count": null,
   "metadata": {},
   "outputs": [],
   "source": []
  }
 ],
 "metadata": {
  "kernelspec": {
   "display_name": "Python 3",
   "language": "python",
   "name": "python3"
  },
  "language_info": {
   "codemirror_mode": {
    "name": "ipython",
    "version": 3
   },
   "file_extension": ".py",
   "mimetype": "text/x-python",
   "name": "python",
   "nbconvert_exporter": "python",
   "pygments_lexer": "ipython3",
   "version": "3.7.6"
  }
 },
 "nbformat": 4,
 "nbformat_minor": 4
}
